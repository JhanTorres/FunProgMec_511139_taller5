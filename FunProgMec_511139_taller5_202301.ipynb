{
 "cells": [
  {
   "cell_type": "code",
   "execution_count": null,
   "id": "cb0b7ed1",
   "metadata": {},
   "outputs": [],
   "source": [
    "##Jhan David Torres Espitia\n",
    "##\n",
    "##jhan.torres@upb.edu.co\n",
    "\n",
    "# Discurso Político \n",
    "import random\n",
    "\n",
    "def generar_discurso_politico():\n",
    "    # Solicitar información al usuario\n",
    "    nombre_candidato = input(\"Ingrese nombre del candidato: \")\n",
    "    presupuesto = float(input(\"Ingrese presupuesto (en millones de pesos): \"))\n",
    "    porcentaje_1 = float(input(\"Ingrese Porcentaje 1: \"))\n",
    "    porcentaje_2 = float(input(\"Ingrese Porcentaje 2: \"))\n",
    "    porcentaje_3 = float(input(\"Ingrese Porcentaje 3: \"))\n",
    "\n",
    "    presupuesto_1 = presupuesto * porcentaje_1 / 100\n",
    "    presupuesto_2 = presupuesto * porcentaje_2 / 100\n",
    "    presupuesto_3 = presupuesto * porcentaje_3 / 100\n",
    "\n",
    "    titulo = random.choice(['Queridos ', 'Apreciados ', 'Distinguidos ', 'Honorables ', 'Estimados ', 'Respetados '])\n",
    "    publico = random.choice(['Compatriotas ', 'Copartidarios ', 'Amigos ', 'Cotorráneos ', 'Cociudadanos ', 'Electores '])\n",
    "    condicion = random.choice(['En mi gobierno ', 'Con su apoyo ', 'Siendo elegido ', 'Con su ayuda ', 'Si me siguen ', 'Durante mi mandato '])\n",
    "    compromiso = random.choice(['Voy a derrotar ', 'Venceré ', 'Eliminaré ', 'Acabaré ', 'Lucharé contra ', 'Combatiré '])\n",
    "    ilusion = random.choice(['La violencia y ', 'La delincuencia y ', 'La corrupción y ', 'La inflación y ', 'La pobreza y ', 'El desplazamiento y '])\n",
    "    promesa = random.choice(['Trabajaré por ', 'Garantizaré ', 'Protegeré ', 'Velaré por ', 'Promoveré ', 'Defenderé '])\n",
    "    beneficio1 = random.choice(['La educación ', 'El empleo ', 'La seguridad ', 'La paz ', 'La igualdad ', 'La salud '])\n",
    "    beneficio2 = random.choice(['La educación ', 'El empleo ', 'La seguridad ', 'La paz ', 'La igualdad ', 'La salud '])\n",
    "    beneficio3 = random.choice(['La educación ', 'El empleo ', 'La seguridad ', 'La paz ', 'La igualdad ', 'La salud '])\n",
    "    dependiendo = random.choice(['Del país.', 'De la ciudad.', 'De la comunidad.', 'De la población.', 'Para toda la gente.', 'De cada ciudadano. '])\n",
    "\n",
    "    \n",
    "    mensaje = f\"{titulo}{publico}\\nMi nombre es {nombre_candidato} y hoy vengo a decirles que, {condicion}{compromiso}{ilusion}promoveré {promesa}\"\n",
    "    mensaje += f\" y es por eso que hoy he venido a proponerles invertir ${presupuesto} millones de pesos de la siguiente manera:\\n\"\n",
    "    mensaje += f\" - ${presupuesto_1:.1f} millones de pesos en {beneficio1}\\n\"\n",
    "    mensaje += f\" - ${presupuesto_2:.1f} millones de pesos en {beneficio2}\\n\"\n",
    "    mensaje += f\" - ${presupuesto_3:.1f} millones de pesos en {beneficio3}\\n\"\n",
    "    mensaje += f\"{dependiendo}\"\n",
    "\n",
    "    return mensaje\n",
    "\n",
    "mensaje_politico = generar_discurso_politico()\n",
    "print(mensaje_politico)"
   ]
  },
  {
   "cell_type": "code",
   "execution_count": null,
   "id": "7b56d74c",
   "metadata": {},
   "outputs": [],
   "source": []
  }
 ],
 "metadata": {
  "kernelspec": {
   "display_name": "Python 3 (ipykernel)",
   "language": "python",
   "name": "python3"
  },
  "language_info": {
   "codemirror_mode": {
    "name": "ipython",
    "version": 3
   },
   "file_extension": ".py",
   "mimetype": "text/x-python",
   "name": "python",
   "nbconvert_exporter": "python",
   "pygments_lexer": "ipython3",
   "version": "3.11.2"
  }
 },
 "nbformat": 4,
 "nbformat_minor": 5
}
