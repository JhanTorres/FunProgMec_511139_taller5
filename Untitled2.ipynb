{
  "nbformat": 4,
  "nbformat_minor": 0,
  "metadata": {
    "colab": {
      "provenance": [],
      "authorship_tag": "ABX9TyNp2/9FzWVWnG5irp3rhFgs",
      "include_colab_link": true
    },
    "kernelspec": {
      "name": "python3",
      "display_name": "Python 3"
    },
    "language_info": {
      "name": "python"
    }
  },
  "cells": [
    {
      "cell_type": "markdown",
      "metadata": {
        "id": "view-in-github",
        "colab_type": "text"
      },
      "source": [
        "<a href=\"https://colab.research.google.com/github/JhanTorres/FunProgMec_511139_taller5/blob/main/Untitled2.ipynb\" target=\"_parent\"><img src=\"https://colab.research.google.com/assets/colab-badge.svg\" alt=\"Open In Colab\"/></a>"
      ]
    },
    {
      "cell_type": "markdown",
      "source": [
        "# Fundamentos de Programación para Ingeniería Mecánica\n",
        "## UPB Montería - 202310\n",
        "### Taller 5: Funciones y Estructuras de Datos\n",
        "- Docente: Miguel Ortiz (miguel.ortizp@upb.edu.co)\n",
        "\n",
        "\n",
        "\n",
        "\n",
        "Datos del Estudiante:\n",
        "- Nombre: Jhan David Torres Espitia\n",
        "- ID: 000511139\n",
        "- email:jhan.torres@upb.edu.co\n",
        "\n",
        "\n",
        "\n",
        "### Problema 1: Discurso Político (150xp)\n",
        "\n",
        "Diseñe el algoritmo y escriba un código en lenguaje de programación Python para generar discursos políticos aleatorios, teniendo en cuenta la siguiente imagen:\n",
        "\n",
        "![componentes de un discurso](discurso.png)\n",
        "\n",
        "Para ello, debe solicitar al usuario el nombre del candidato, un presupuesto general, y tres (3) porcentajes que representen los dineros que destinará a diferentes sectores seleccionados de forma aleatoria (lista de beneficio populista).\n",
        "\n",
        "Crea una función sin parámetros que retorne un string con el mensaje político. Dentro de la función deben aparecer los inputs para solicitar información al usuario. Guarda el mensaje creado por la función en una variable llamada `mensaje_politico` e imprime su valor en consola. \n",
        "\n",
        "*Ejemplo:*\n",
        "\n",
        "\n",
        ">>> Entradas:\n",
        "Ingrese nombre del candidato: Chocolove McDonell\n",
        "Ingrese presupuesto (en millones de pesos): 1250\n",
        "Ingrese Porcentaje 1: 25\n",
        "Ingrese Porcentaje 2: 30\n",
        "Ingrese Porcentaje 3: 45\n",
        ">>> Salidas:\n",
        "Estimados copartidarios. \n",
        "Mi nombre es Chocolove McDonell y hoy vengo a decirles que, con su ayuda combatiré el desplazamiento y promoveré la educación de cada colombiano. Y es por eso que hoy he venido a proponerles invertir $1250.0 millones de pesos de la siguiente manera: \n",
        " - $312.5 millones de pesos en el empleo \n",
        " - $375.0 millones de pesos en la educación \n",
        " - $562.5 millones de pesos en la salud \n",
        "\n",
        "\n",
        "*Nota:* para seleccionar un elemento aleatorio de una lista puede utilizar la función `choice()` de la librería random:\n",
        "\n",
        "python\n",
        "import random\n",
        "random.choice([1, 2, 3])\n",
        "\n",
        "\n",
        "*Recomendación:* cree las variables sin acento (tildes) y en minúsculas."
      ],
      "metadata": {
        "id": "LgTNn0ACUqXU"
      }
    },
    {
      "cell_type": "code",
      "execution_count": 3,
      "metadata": {
        "colab": {
          "base_uri": "https://localhost:8080/"
        },
        "id": "0k_puVtUSsr-",
        "outputId": "f0b37fba-e3e1-433a-f34a-b7e1723680a9"
      },
      "outputs": [
        {
          "output_type": "stream",
          "name": "stdout",
          "text": [
            "Ingrese nombre del candidato: ca\n",
            "Ingrese presupuesto (en millones de pesos): 5000\n",
            "Ingrese Porcentaje 1: 5\n",
            "Ingrese Porcentaje 2: 8\n",
            "Ingrese Porcentaje 3: 7\n",
            "Honorables Cociudadanos \n",
            "Mi nombre es ca y hoy vengo a decirles que, Si me siguen Voy a derrotar La delincuencia y promoveré Promoveré  y es por eso que hoy he venido a proponerles invertir $5000.0 millones de pesos de la siguiente manera:\n",
            " - $250.0 millones de pesos en La salud \n",
            " - $400.0 millones de pesos en La igualdad \n",
            " - $350.0 millones de pesos en El empleo \n",
            "De cada ciudadano. \n"
          ]
        }
      ],
      "source": [
        "\n",
        "\n",
        "\n",
        "import random\n",
        "\n",
        "def generar_discurso_politico():\n",
        "    # Solicitar información al usuario\n",
        "    nombre_candidato = input(\"Ingrese nombre del candidato: \")\n",
        "    presupuesto = float(input(\"Ingrese presupuesto (en millones de pesos): \"))\n",
        "    porcentaje_1 = float(input(\"Ingrese Porcentaje 1: \"))\n",
        "    porcentaje_2 = float(input(\"Ingrese Porcentaje 2: \"))\n",
        "    porcentaje_3 = float(input(\"Ingrese Porcentaje 3: \"))\n",
        "\n",
        "    # Calcular el presupuesto destinado a cada sector\n",
        "    presupuesto_1 = presupuesto * porcentaje_1 / 100\n",
        "    presupuesto_2 = presupuesto * porcentaje_2 / 100\n",
        "    presupuesto_3 = presupuesto * porcentaje_3 / 100\n",
        "\n",
        "\n",
        "    titulo = random.choice(['Queridos ', 'Apreciados ', 'Distinguidos ', 'Honorables ', 'Estimados ', 'Respetados '])\n",
        "    publico = random.choice(['Compatriotas ', 'Copartidarios ', 'Amigos ', 'Cotorráneos ', 'Cociudadanos ', 'Electores '])\n",
        "    condicion = random.choice(['En mi gobierno ', 'Con su apoyo ', 'Siendo elegido ', 'Con su ayuda ', 'Si me siguen ', 'Durante mi mandato '])\n",
        "    compromiso = random.choice(['Voy a derrotar ', 'Venceré ', 'Eliminaré ', 'Acabaré ', 'Lucharé contra ', 'Combatiré '])\n",
        "    ilusion = random.choice(['La violencia y ', 'La delincuencia y ', 'La corrupción y ', 'La inflación y ', 'La pobreza y ', 'El desplazamiento y '])\n",
        "    promesa = random.choice(['Trabajaré por ', 'Garantizaré ', 'Protegeré ', 'Velaré por ', 'Promoveré ', 'Defenderé '])\n",
        "    beneficio1 = random.choice(['La educación ', 'El empleo ', 'La seguridad ', 'La paz ', 'La igualdad ', 'La salud '])\n",
        "    beneficio2 = random.choice(['La educación ', 'El empleo ', 'La seguridad ', 'La paz ', 'La igualdad ', 'La salud '])\n",
        "    beneficio3 = random.choice(['La educación ', 'El empleo ', 'La seguridad ', 'La paz ', 'La igualdad ', 'La salud '])\n",
        "    dependiendo = random.choice(['Del país.', 'De la ciudad.', 'De la comunidad.', 'De la población.', 'Para toda la gente.', 'De cada ciudadano. '])\n",
        "\n",
        "    mensaje = f\"{titulo}{publico}\\nMi nombre es {nombre_candidato} y hoy vengo a decirles que, {condicion}{compromiso}{ilusion}promoveré {promesa}\"\n",
        "    mensaje += f\" y es por eso que hoy he venido a proponerles invertir ${presupuesto} millones de pesos de la siguiente manera:\\n\"\n",
        "    mensaje += f\" - ${presupuesto_1:.1f} millones de pesos en {beneficio1}\\n\"\n",
        "    mensaje += f\" - ${presupuesto_2:.1f} millones de pesos en {beneficio2}\\n\"\n",
        "    mensaje += f\" - ${presupuesto_3:.1f} millones de pesos en {beneficio3}\\n\"\n",
        "    mensaje += f\"{dependiendo}\"\n",
        "\n",
        "    return mensaje\n",
        "\n",
        "mensaje_politico = generar_discurso_politico()\n",
        "print(mensaje_politico)"
      ]
    }
  ]
}